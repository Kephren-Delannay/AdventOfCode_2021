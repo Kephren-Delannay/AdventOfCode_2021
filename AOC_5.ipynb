{
 "cells": [
  {
   "cell_type": "markdown",
   "metadata": {},
   "source": [
    "# Get The Data"
   ]
  },
  {
   "cell_type": "code",
   "execution_count": 94,
   "metadata": {},
   "outputs": [],
   "source": [
    "with open(file='AOC_5_input.txt') as f:\n",
    "    _data = f.read().split('\\n')\n",
    "\n",
    "data = []\n",
    "for el in _data:\n",
    "    data.append(el.split(' -> '))\n"
   ]
  },
  {
   "cell_type": "code",
   "execution_count": 95,
   "metadata": {},
   "outputs": [
    {
     "name": "stdout",
     "output_type": "stream",
     "text": [
      "[[0. 0. 0. 0. 0. 0. 0. 0. 0. 0.]\n",
      " [0. 0. 0. 0. 0. 0. 0. 0. 0. 0.]\n",
      " [0. 0. 0. 0. 0. 0. 0. 0. 0. 0.]\n",
      " [0. 0. 0. 0. 0. 0. 0. 0. 0. 0.]\n",
      " [0. 0. 0. 0. 0. 0. 0. 0. 0. 0.]\n",
      " [0. 0. 0. 0. 0. 0. 0. 0. 0. 0.]\n",
      " [0. 0. 0. 0. 0. 0. 0. 0. 0. 0.]\n",
      " [0. 0. 0. 0. 0. 0. 0. 0. 0. 0.]\n",
      " [0. 0. 0. 0. 0. 0. 0. 0. 0. 0.]\n",
      " [0. 0. 0. 0. 0. 0. 0. 0. 0. 0.]]\n"
     ]
    }
   ],
   "source": [
    "import numpy as np\n",
    "grid = np.zeros(shape=(10,10))\n",
    "print(grid)\n"
   ]
  },
  {
   "cell_type": "code",
   "execution_count": 96,
   "metadata": {},
   "outputs": [],
   "source": [
    "for positions in data:\n",
    "    x1 = eval(positions[0].split(',')[0])\n",
    "    y1 = eval(positions[0].split(',')[1])\n",
    "    x2 = eval(positions[1].split(',')[0])\n",
    "    y2 = eval(positions[1].split(',')[1])\n",
    "    \n",
    "    if x1 == x2:\n",
    "        for i in range(min(y1, y2), max(y1, y2) + 1):\n",
    "            grid[i][x1] += 1\n",
    "    elif y1 == y2:\n",
    "        for i in range(min(x1, x2), max(x1, x2) + 1):\n",
    "            grid[y1][i] += 1\n",
    "    else:\n",
    "        \n"
   ]
  },
  {
   "cell_type": "code",
   "execution_count": 97,
   "metadata": {},
   "outputs": [
    {
     "name": "stdout",
     "output_type": "stream",
     "text": [
      "5\n"
     ]
    }
   ],
   "source": [
    "print(np.count_nonzero(grid>1))"
   ]
  }
 ],
 "metadata": {
  "interpreter": {
   "hash": "e5db5786fdcfd896e73201b14cc9c19ba6072df2d710c5908add2e7027da1ff8"
  },
  "kernelspec": {
   "display_name": "Python 3.10.1 ('AOCvenv': venv)",
   "language": "python",
   "name": "python3"
  },
  "language_info": {
   "codemirror_mode": {
    "name": "ipython",
    "version": 3
   },
   "file_extension": ".py",
   "mimetype": "text/x-python",
   "name": "python",
   "nbconvert_exporter": "python",
   "pygments_lexer": "ipython3",
   "version": "3.10.1"
  },
  "orig_nbformat": 4
 },
 "nbformat": 4,
 "nbformat_minor": 2
}
