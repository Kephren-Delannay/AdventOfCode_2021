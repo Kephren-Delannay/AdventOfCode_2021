{
 "cells": [
  {
   "cell_type": "code",
   "execution_count": 3,
   "id": "c4b12a9a-1f69-4c21-bdc8-861addba2514",
   "metadata": {},
   "outputs": [],
   "source": [
    "with open(file='AOC_4_input.txt') as f:\n",
    "          data = f.read().split('\\n')\n",
    "          "
   ]
  },
  {
   "cell_type": "code",
   "execution_count": 5,
   "id": "d9743d5b-c345-4d5f-a9ac-5db9d143b159",
   "metadata": {},
   "outputs": [],
   "source": [
    "hands = [eval(x) for x in data[0].split(',')]"
   ]
  },
  {
   "cell_type": "code",
   "execution_count": null,
   "id": "12e799f5-daf7-4abe-85a0-369c8e85ece9",
   "metadata": {},
   "outputs": [],
   "source": []
  }
 ],
 "metadata": {
  "kernelspec": {
   "display_name": "Python 3 (ipykernel)",
   "language": "python",
   "name": "python3"
  },
  "language_info": {
   "codemirror_mode": {
    "name": "ipython",
    "version": 3
   },
   "file_extension": ".py",
   "mimetype": "text/x-python",
   "name": "python",
   "nbconvert_exporter": "python",
   "pygments_lexer": "ipython3",
   "version": "3.10.1"
  }
 },
 "nbformat": 4,
 "nbformat_minor": 5
}
