{
 "cells": [
  {
   "cell_type": "markdown",
   "metadata": {},
   "source": [
    "<h1> Get Data "
   ]
  },
  {
   "cell_type": "code",
   "execution_count": 5,
   "metadata": {},
   "outputs": [],
   "source": [
    "import numpy as np"
   ]
  },
  {
   "cell_type": "code",
   "execution_count": 90,
   "metadata": {},
   "outputs": [],
   "source": [
    "with open (file='AOC_4_input.txt') as f:\n",
    "    _data = f.read()\n",
    "\n",
    "data = _data.split('\\n')\n",
    "hands = [eval(x) for x in data[0].split(',')]"
   ]
  },
  {
   "cell_type": "code",
   "execution_count": 91,
   "metadata": {},
   "outputs": [],
   "source": [
    "_boards = _data.split('\\n\\n')"
   ]
  },
  {
   "cell_type": "code",
   "execution_count": 92,
   "metadata": {},
   "outputs": [],
   "source": [
    "def createBoard(test):\n",
    "    n = np.array((test.split('\\n')))\n",
    "    _n = np.zeros(shape=(5,5))\n",
    "    for i in range(len(n)):\n",
    "        a = n[i].split(' ')\n",
    "        index = 0\n",
    "        for j in range(len(a)):\n",
    "            if a[j] != '':\n",
    "                _n[i,index] = eval(a[j])\n",
    "                index += 1\n",
    "    return(_n)"
   ]
  },
  {
   "cell_type": "code",
   "execution_count": 101,
   "metadata": {},
   "outputs": [],
   "source": [
    "bb = []\n",
    "for i in range(1, 101):\n",
    "    _b = createBoard(_boards[i])\n",
    "    bb.append(_b)\n",
    "boards = np.array(bb)"
   ]
  }
 ],
 "metadata": {
  "interpreter": {
   "hash": "e5db5786fdcfd896e73201b14cc9c19ba6072df2d710c5908add2e7027da1ff8"
  },
  "kernelspec": {
   "display_name": "Python 3.10.1 ('AOCvenv': venv)",
   "language": "python",
   "name": "python3"
  },
  "language_info": {
   "codemirror_mode": {
    "name": "ipython",
    "version": 3
   },
   "file_extension": ".py",
   "mimetype": "text/x-python",
   "name": "python",
   "nbconvert_exporter": "python",
   "pygments_lexer": "ipython3",
   "version": "3.10.1"
  },
  "orig_nbformat": 4
 },
 "nbformat": 4,
 "nbformat_minor": 2
}
